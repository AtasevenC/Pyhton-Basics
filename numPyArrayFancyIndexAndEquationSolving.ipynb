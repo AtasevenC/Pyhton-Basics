#!/usr/bin/env python
# coding: utf-8

# # SubSet of Array

# In[3]:


import numpy as np
a= np.random.randint(10, size=(5,5))
a


# In[5]:


subSet_a=a[0:3,0:2]
subSet_a


# In[6]:


subSet_a[0,0]=999
subSet_a[1,1]=888
subSet_a


# In[7]:


a


# In[8]:


b=np.random.randint(10, size=(5,5))
b


# In[9]:


subSet_b=b[0:3,0:2].copy()
subSet_b


# In[10]:


subSet_b[0,0]=999
subSet_b[1,1]=777
subSet_b


# In[11]:


b


# # Fancy Index

# In[13]:


v=np.arange(0,30,3)
v


# In[14]:


fancyIndex=[1,3,5]
v[fancyIndex]


# In[15]:


m=np.arange(9).reshape((3,3))
m


# In[16]:


m1=np.array([0,1])
m2=np.array([1,2])


# In[17]:


m[m1,m2]


# In[18]:


m[0,m1]


# In[21]:


# slice and fancy


# In[22]:


m


# In[20]:


m[0:,[1,2]]


# # Conditional Elemets Operators

# In[29]:


v=np.array([1,2,3,4,5])


# In[30]:


v<5


# In[31]:


v[v<3]


# In[33]:


v[v==2]


# In[34]:


v[v!=2]


# # Equation Solving 

# ## 5*x+y=12
# ## x+3*y=10

# In[50]:


s1=np.array([[5,1],[1,3]])
s2=np.array([12,10])


# In[44]:


s1


# In[51]:


s2


# In[53]:


s = np.linalg.solve(s1,s2)


# In[54]:


s


# In[ ]:




